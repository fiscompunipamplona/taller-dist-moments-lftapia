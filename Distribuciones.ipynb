{
 "cells": [
  {
   "cell_type": "code",
   "execution_count": 65,
   "metadata": {},
   "outputs": [
    {
     "name": "stdout",
     "output_type": "stream",
     "text": [
      "Vel. Media: 6.066666666666666\n",
      "Varianza: 6.537853107344633\n",
      "Desviación Estandar: 2.5569225853249122\n",
      "Skew: 0.5671301632918211\n",
      "Kurtosis -0.7555963753806649\n"
     ]
    }
   ],
   "source": [
    "import numpy as np\n",
    "from math import*\n",
    "\n",
    "# Media\n",
    "\n",
    "v=np.array([2, 6, 12, 9, 11, 4, 3, 5, 2, 6])\n",
    "n=len(v)\n",
    "vel=np.array([2, 3, 4, 5, 6, 7, 8, 9, 10, 11])\n",
    "r=v*vel\n",
    "b=sum(r)\n",
    "e=len(r)\n",
    "a=sum(v)\n",
    "media=b/a\n",
    "print(\"Vel. Media:\",media)\n",
    "\n",
    "# Varianza\n",
    "\n",
    "h=(vel-media)\n",
    "y=h*h\n",
    "i=v*y\n",
    "var=sum(i)/(a-1)\n",
    "print(\"Varianza:\",var)\n",
    "\n",
    "# Desviación Estandar\n",
    "\n",
    "sigma=sqrt(var)\n",
    "print(\"Desviación Estandar:\", sigma)\n",
    "\n",
    "#Skew\n",
    "\n",
    "p=(vel-media)/sigma\n",
    "q=p*p*p\n",
    "m= v*q\n",
    "Sk= sum(m)/ a\n",
    "print(\"Skew:\", Sk)\n",
    "\n",
    "#Kurtosis\n",
    "k=(vel-media)/sigma\n",
    "o=k*k*k*k\n",
    "w=v*o\n",
    "kurt=(sum(w) / a) - 3\n",
    "print(\"Kurtosis\",kurt)\n"
   ]
  },
  {
   "cell_type": "code",
   "execution_count": 49,
   "metadata": {},
   "outputs": [
    {
     "name": "stdout",
     "output_type": "stream",
     "text": [
      "Varianza 6.537853107344633\n"
     ]
    }
   ],
   "source": []
  },
  {
   "cell_type": "code",
   "execution_count": null,
   "metadata": {},
   "outputs": [],
   "source": []
  }
 ],
 "metadata": {
  "kernelspec": {
   "display_name": "Python 3",
   "language": "python",
   "name": "python3"
  },
  "language_info": {
   "codemirror_mode": {
    "name": "ipython",
    "version": 3
   },
   "file_extension": ".py",
   "mimetype": "text/x-python",
   "name": "python",
   "nbconvert_exporter": "python",
   "pygments_lexer": "ipython3",
   "version": "3.5.2"
  }
 },
 "nbformat": 4,
 "nbformat_minor": 2
}
